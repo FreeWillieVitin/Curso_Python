{
 "cells": [
  {
   "cell_type": "markdown",
   "id": "b0361b7a-42fd-4fe0-94f2-fc00d474e709",
   "metadata": {},
   "source": [
    "# Este é o meu título\n",
    "Essa Linha Cria uma variável `a`."
   ]
  },
  {
   "cell_type": "code",
   "execution_count": 5,
   "id": "db1cd899-1694-41c9-ac26-8ed157e09899",
   "metadata": {},
   "outputs": [],
   "source": [
    "a = 2"
   ]
  },
  {
   "cell_type": "markdown",
   "id": "6161b73f-de24-4aa1-832f-c14547415b23",
   "metadata": {},
   "source": [
    "Essa linha tem o valor da variável `a` em dobro"
   ]
  },
  {
   "cell_type": "code",
   "execution_count": 4,
   "id": "69a7b614-0cb6-4740-b18f-edbf52a5b9f8",
   "metadata": {},
   "outputs": [
    {
     "data": {
      "text/plain": [
       "4"
      ]
     },
     "execution_count": 4,
     "metadata": {},
     "output_type": "execute_result"
    }
   ],
   "source": [
    "b = a * 2\n",
    "b"
   ]
  },
  {
   "cell_type": "markdown",
   "id": "05304ed4-0dfe-4b4e-87e2-f992b97227d2",
   "metadata": {},
   "source": [
    "Essa linha mostra o valor de `a` e de `b`"
   ]
  },
  {
   "cell_type": "code",
   "execution_count": 9,
   "id": "bfbbd180-8f12-4991-af49-304b02f3b2a9",
   "metadata": {},
   "outputs": [
    {
     "data": {
      "text/plain": [
       "6"
      ]
     },
     "execution_count": 9,
     "metadata": {},
     "output_type": "execute_result"
    }
   ],
   "source": [
    "a + b"
   ]
  }
 ],
 "metadata": {
  "kernelspec": {
   "display_name": "Python 3 (ipykernel)",
   "language": "python",
   "name": "python3"
  },
  "language_info": {
   "codemirror_mode": {
    "name": "ipython",
    "version": 3
   },
   "file_extension": ".py",
   "mimetype": "text/x-python",
   "name": "python",
   "nbconvert_exporter": "python",
   "pygments_lexer": "ipython3",
   "version": "3.11.4"
  }
 },
 "nbformat": 4,
 "nbformat_minor": 5
}
